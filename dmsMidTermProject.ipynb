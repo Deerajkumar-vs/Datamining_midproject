{
  "cells": [
    {
      "cell_type": "code",
      "execution_count": 3,
      "metadata": {
        "colab": {
          "base_uri": "https://localhost:8080/"
        },
        "id": "1e5mOJWs8dGe",
        "outputId": "81dabf43-d515-4008-e7fe-0b969a0c3a8d"
      },
      "outputs": [
        {
          "name": "stdout",
          "output_type": "stream",
          "text": [
            "Requirement already satisfied: mlxtend in c:\\users\\deera\\appdata\\local\\programs\\python\\python310\\lib\\site-packages (0.23.4)\n",
            "Requirement already satisfied: scipy>=1.2.1 in c:\\users\\deera\\appdata\\local\\programs\\python\\python310\\lib\\site-packages (from mlxtend) (1.10.1)\n",
            "Requirement already satisfied: numpy>=1.16.2 in c:\\users\\deera\\appdata\\local\\programs\\python\\python310\\lib\\site-packages (from mlxtend) (1.24.1)\n",
            "Requirement already satisfied: pandas>=0.24.2 in c:\\users\\deera\\appdata\\local\\programs\\python\\python310\\lib\\site-packages (from mlxtend) (1.5.2)\n",
            "Requirement already satisfied: scikit-learn>=1.3.1 in c:\\users\\deera\\appdata\\local\\programs\\python\\python310\\lib\\site-packages (from mlxtend) (1.5.2)\n",
            "Requirement already satisfied: matplotlib>=3.0.0 in c:\\users\\deera\\appdata\\local\\programs\\python\\python310\\lib\\site-packages (from mlxtend) (3.7.1)\n",
            "Requirement already satisfied: joblib>=0.13.2 in c:\\users\\deera\\appdata\\local\\programs\\python\\python310\\lib\\site-packages (from mlxtend) (1.2.0)\n",
            "Requirement already satisfied: contourpy>=1.0.1 in c:\\users\\deera\\appdata\\local\\programs\\python\\python310\\lib\\site-packages (from matplotlib>=3.0.0->mlxtend) (1.0.7)\n",
            "Requirement already satisfied: cycler>=0.10 in c:\\users\\deera\\appdata\\local\\programs\\python\\python310\\lib\\site-packages (from matplotlib>=3.0.0->mlxtend) (0.11.0)\n",
            "Requirement already satisfied: fonttools>=4.22.0 in c:\\users\\deera\\appdata\\local\\programs\\python\\python310\\lib\\site-packages (from matplotlib>=3.0.0->mlxtend) (4.39.3)\n",
            "Requirement already satisfied: kiwisolver>=1.0.1 in c:\\users\\deera\\appdata\\local\\programs\\python\\python310\\lib\\site-packages (from matplotlib>=3.0.0->mlxtend) (1.4.4)\n",
            "Requirement already satisfied: packaging>=20.0 in c:\\users\\deera\\appdata\\local\\programs\\python\\python310\\lib\\site-packages (from matplotlib>=3.0.0->mlxtend) (23.1)\n",
            "Requirement already satisfied: pillow>=6.2.0 in c:\\users\\deera\\appdata\\local\\programs\\python\\python310\\lib\\site-packages (from matplotlib>=3.0.0->mlxtend) (9.5.0)\n",
            "Requirement already satisfied: pyparsing>=2.3.1 in c:\\users\\deera\\appdata\\local\\programs\\python\\python310\\lib\\site-packages (from matplotlib>=3.0.0->mlxtend) (3.0.7)\n",
            "Requirement already satisfied: python-dateutil>=2.7 in c:\\users\\deera\\appdata\\local\\programs\\python\\python310\\lib\\site-packages (from matplotlib>=3.0.0->mlxtend) (2.8.2)\n",
            "Requirement already satisfied: pytz>=2020.1 in c:\\users\\deera\\appdata\\local\\programs\\python\\python310\\lib\\site-packages (from pandas>=0.24.2->mlxtend) (2022.7)\n",
            "Requirement already satisfied: threadpoolctl>=3.1.0 in c:\\users\\deera\\appdata\\local\\programs\\python\\python310\\lib\\site-packages (from scikit-learn>=1.3.1->mlxtend) (3.1.0)\n",
            "Requirement already satisfied: six>=1.5 in c:\\users\\deera\\appdata\\local\\programs\\python\\python310\\lib\\site-packages (from python-dateutil>=2.7->matplotlib>=3.0.0->mlxtend) (1.16.0)\n"
          ]
        },
        {
          "name": "stderr",
          "output_type": "stream",
          "text": [
            "\n",
            "[notice] A new release of pip is available: 25.0 -> 25.0.1\n",
            "[notice] To update, run: python.exe -m pip install --upgrade pip\n"
          ]
        }
      ],
      "source": [
        "! pip  install mlxtend"
      ]
    },
    {
      "cell_type": "code",
      "execution_count": null,
      "metadata": {
        "colab": {
          "base_uri": "https://localhost:8080/"
        },
        "id": "Wti2rnhKs5-2",
        "outputId": "2238cfc1-834c-4c32-9269-8d5c1188c61e"
      },
      "outputs": [],
      "source": [
        "bfTime = 0.0\n",
        "aTime = 0.0\n",
        "choice = None\n",
        "minimumSup = None\n",
        "minimumConfi = None\n",
        "file_name = None"
      ]
    },
    {
      "cell_type": "code",
      "execution_count": null,
      "metadata": {
        "colab": {
          "base_uri": "https://localhost:8080/"
        },
        "id": "l0gz_Hs9gpik",
        "outputId": "bb79c82f-2470-4934-b89e-33ff75858433"
      },
      "outputs": [],
      "source": [
        "import sys\n",
        "import csv\n",
        "from itertools import combinations\n",
        "from typing import Dict, List, Tuple\n",
        "import time\n",
        "mini_conf=0\n",
        "def frequentset(list1: List[str], notconsider: List[set], item_set_list: List[set], n: int,\n",
        "                  min_supp: float, counttot: int, support_of_all_item_set: Dict[Tuple[str], int]) -> Tuple[Dict[Tuple[str], int], List[set]]:\n",
        "    comb = combinations(list1, n)\n",
        "    item_support_count = {}\n",
        "    for i in comb:\n",
        "        set_i = set(i)\n",
        "        i = tuple(sorted(i))\n",
        "        for j in item_set_list:\n",
        "            if set_i.issubset(j):\n",
        "                if notconsider:\n",
        "                    count = 0\n",
        "                    for k in notconsider:\n",
        "                        if k.issubset(set_i):\n",
        "                            count = 1\n",
        "                            break\n",
        "                    if not count:\n",
        "                        if i in item_support_count:\n",
        "                            item_support_count[i] += 1\n",
        "                        else:\n",
        "                            item_support_count[i] = 1\n",
        "                else:\n",
        "                    if i in item_support_count:\n",
        "                        item_support_count[i] += 1\n",
        "                    else:\n",
        "                        item_support_count[i] = 1\n",
        "    fsReturn = {}\n",
        "    rsReturn = []\n",
        "\n",
        "    if item_support_count:\n",
        "        print()\n",
        "        for i in item_support_count:\n",
        "            if (item_support_count[i] / counttot) * 100 >= min_supp:\n",
        "                fsReturn[i] = item_support_count[i]\n",
        "            else:\n",
        "                rsReturn.append(set(list(i)))\n",
        "        print()\n",
        "        if fsReturn:\n",
        "            itemprint(fsReturn, n, counttot)\n",
        "            support_of_all_item_set.update(item_support_count)\n",
        "            association_rules(fsReturn,support_of_all_item_set,mini_conf)\n",
        "            return fsReturn, rsReturn\n",
        "    return None, None\n",
        "def itemprint(frequent_set: Dict[Tuple[str], int], n: int, counttot: int):\n",
        "    print(\"Frequent itemsets\", n, \"iteration\")\n",
        "    for i in frequent_set:\n",
        "        print(i, round(frequent_set[i] * 100 / counttot, 2))\n",
        "    print()\n",
        "from itertools import combinations\n",
        "from typing import Dict, Tuple\n",
        "\n",
        "def association_rules(frequent_set: Dict[Tuple[str], int], support_of_all_item_set: Dict[Tuple[str], int], min_conf: float):\n",
        "    for items_set_tuple in frequent_set.keys():\n",
        "        print(\"Association Rule for itemset -\", items_set_tuple)\n",
        "        size_of_item_set = len(items_set_tuple)\n",
        "        itemset = set(items_set_tuple)\n",
        "        while size_of_item_set - 1 > 0:\n",
        "            comb = combinations(items_set_tuple, size_of_item_set - 1)\n",
        "            for i in comb:\n",
        "                left_side_items = i\n",
        "                right_side_items = tuple(itemset - set(i))\n",
        "                item_conf = round(support_of_all_item_set[items_set_tuple] * 100 / support_of_all_item_set[left_side_items], 2)\n",
        "                if item_conf >= min_conf:\n",
        "                    print(left_side_items, \"=>\", right_side_items, item_conf, \"Rule Selected\")\n",
        "                else:\n",
        "                    print(left_side_items, \"=>\", right_side_items, item_conf, \"Rule Rejected\")\n",
        "            size_of_item_set -= 1\n",
        "        print()\n",
        "\n",
        "\n",
        "\n",
        "def bruteforce(file_name: str, min_supp: int, min_conf: int):\n",
        "    global bfTime\n",
        "    global mini_conf\n",
        "    mini_conf=min_conf\n",
        "\n",
        "    start_time=time.time()\n",
        "    with open(file_name, \"r\") as file_object:\n",
        "        reader = csv.reader(file_object)\n",
        "        all_tx = []\n",
        "        counttot = 0\n",
        "        support_of_all_item_set = {}\n",
        "        c1 = {}  \n",
        "        item_set_list = []\n",
        "        for row in reader:\n",
        "            transaction_id = row[0]\n",
        "            items = row[1].split(\", \")\n",
        "            all_tx.append(transaction_id)\n",
        "            seen = set()\n",
        "            for item in items:\n",
        "                c1[(item,)] = c1.get((item,), 0) + 1\n",
        "                seen.add(item)\n",
        "            item_set_list.append(seen)\n",
        "            counttot += 1\n",
        "\n",
        "        frequent_set = {}\n",
        "        rejected_set = []\n",
        "        print()\n",
        "        for i in c1:\n",
        "            if (c1[i] / counttot) * 100 >= min_supp:\n",
        "                frequent_set[i] = c1[i]\n",
        "            else:\n",
        "                rejected_set.append(set(i))\n",
        "        support_of_all_item_set.update(c1)\n",
        "\n",
        "        list1 = [item[0] for item in frequent_set.keys()]\n",
        "        print()\n",
        "        print(itemprint(frequent_set, 1, counttot))\n",
        "\n",
        "        item_set_size = 1\n",
        "        while len(list1) > item_set_size:\n",
        "            frequent_set1, rejected_set1 = frequentset(\n",
        "                list1, rejected_set, item_set_list, item_set_size + 1,\n",
        "                min_supp, counttot, support_of_all_item_set\n",
        "            )\n",
        "            if not frequent_set1:\n",
        "                break\n",
        "            item_list = [items for item_tuples in frequent_set1.keys() for items in item_tuples]\n",
        "            list1 = list(set(item_list))\n",
        "            rejected_set = rejected_set1\n",
        "            frequent_set = frequent_set1\n",
        "            item_set_size += 1\n",
        "\n",
        "        association_rules(frequent_set, support_of_all_item_set, min_conf)\n",
        "        end_time= time.time()\n",
        "        bfTime= end_time-start_time\n",
        "        print(f\"Time taken to complete the process using brute force method:{bfTime:.6f}\")\n"
      ]
    },
    {
      "cell_type": "code",
      "execution_count": null,
      "metadata": {
        "colab": {
          "base_uri": "https://localhost:8080/"
        },
        "id": "QCypxduTkh60",
        "outputId": "1a9bef5d-320d-4584-a306-1dd0fae8ad63"
      },
      "outputs": [
        {
          "name": "stdout",
          "output_type": "stream",
          "text": [
            "Please select a dataset:\n",
            "1. Juice Bar\n",
            "2. Burlington\n",
            "3. Costco\n",
            "4. Walmart\n",
            "5. ShopRite\n"
          ]
        }
      ],
      "source": [
        "\n",
        "def get_user_input():\n",
        "    global choice, minimumSup, minimumConfi, file_name  \n",
        "\n",
        "    print(\"Please select a dataset:\")\n",
        "    print(\"1. Juice Bar\")\n",
        "    print(\"2. Burlington\")\n",
        "    print(\"3. Costco\")\n",
        "    print(\"4. Walmart\")\n",
        "    print(\"5. ShopRite\")\n",
        "\n",
        "    choice = input(\"Enter the number corresponding to your choice: \")\n",
        "    minimumSup = int(input(\"Enter minimum support as %: \"))\n",
        "    minimumConfi = int(input(\"Enter minimum confidence as %: \"))\n",
        "\n",
        "    file_names = {\n",
        "        '1': 'juicebar.csv',\n",
        "        '2': 'burlington.csv',\n",
        "        '3': 'costco.csv',\n",
        "        '4': 'walmart.csv',\n",
        "        '5': 'shoprite.csv'\n",
        "    }\n",
        "\n",
        "\n",
        "    if choice in file_names:\n",
        "        file_name = file_names[choice]\n",
        "        print(f\"You selected: {file_name}\")\n",
        "    else:\n",
        "        print(\"Invalid choice. Please try again.\")\n",
        "        get_user_input()  \n",
        "\n",
        "def run_analysis():\n",
        "    global file_name, minimumSup, minimumConfi  \n",
        "    bruteforce(file_name, minimumSup, minimumConfi)\n",
        "get_user_input()\n",
        "\n",
        "run_analysis()\n"
      ]
    },
    {
      "cell_type": "code",
      "execution_count": null,
      "metadata": {
        "colab": {
          "base_uri": "https://localhost:8080/"
        },
        "id": "SHqH58w3eOmc",
        "outputId": "2a71a60f-cab3-4d10-f0dc-d34260fa95c7"
      },
      "outputs": [
        {
          "name": "stderr",
          "output_type": "stream",
          "text": [
            "/usr/local/lib/python3.10/dist-packages/ipykernel/ipkernel.py:283: DeprecationWarning: `should_run_async` will not call `transform_cell` automatically in the future. Please pass the result to `transformed_cell` argument and any exception that happen during thetransform in `preprocessing_exc_tuple` in IPython 7.17 and above.\n",
            "  and should_run_async(code)\n"
          ]
        }
      ],
      "source": [
        "import pandas as pd\n",
        "from mlxtend.frequent_patterns import apriori, association_rules\n",
        "import time\n",
        "\n",
        "def apriori_from_csv(file_name: str, minimumSup: float, minimumConfi: float):\n",
        "    global aTime\n",
        "    start_time=time.time()\n",
        "    df = pd.read_csv(file_name, header=None)\n",
        "\n",
        "    transactions = []\n",
        "    for row in df.itertuples(index=False):\n",
        "        transactions.append(row[1].split(\", \"))\n",
        "    from mlxtend.preprocessing import TransactionEncoder\n",
        "    encoder = TransactionEncoder()\n",
        "    encoded_data = encoder.fit(transactions).transform(transactions)\n",
        "    df = pd.DataFrame(encoded_data, columns=encoder.columns_)\n",
        "    print(df)\n",
        "\n",
        "    fi = apriori(df, min_support=minimumSup / 100, use_colnames=True)\n",
        "    rules = association_rules(fi, metric=\"confidence\", min_threshold=minimumConfi / 100)\n",
        "    print(\"Frequent Itemsets:\")\n",
        "    print(fi)\n",
        "    print(\"\\nAssociation Rules:\")\n",
        "    print(rules)\n",
        "    end_time= time.time()\n",
        "    aTime= end_time-start_time\n",
        "\n",
        "\n"
      ]
    },
    {
      "cell_type": "code",
      "execution_count": 129,
      "metadata": {
        "colab": {
          "base_uri": "https://localhost:8080/"
        },
        "id": "a5r143GEeWAY",
        "outputId": "c6e8e6de-85ea-461d-bf01-6091b54e27f7"
      },
      "outputs": [
        {
          "name": "stdout",
          "output_type": "stream",
          "text": [
            "    Cider  Ciderss  Cocktail  Cocoa  Coffee  Juice  ProteinShake   Soda  \\\n",
            "0    True    False     False   True   False  False         False  False   \n",
            "1   False    False     False   True   False   True         False  False   \n",
            "2   False    False      True  False   False  False         False  False   \n",
            "3   False    False      True  False    True  False         False  False   \n",
            "4   False    False      True  False   False   True          True   True   \n",
            "5   False    False     False  False    True  False          True   True   \n",
            "6   False    False     False  False   False  False         False  False   \n",
            "7   False    False     False   True   False  False         False  False   \n",
            "8    True    False     False   True    True   True         False  False   \n",
            "9   False    False     False   True    True  False         False  False   \n",
            "10  False    False     False  False    True   True          True   True   \n",
            "11  False    False      True   True   False   True          True  False   \n",
            "12   True    False      True  False    True  False          True  False   \n",
            "13  False    False      True  False    True   True          True  False   \n",
            "14   True    False     False  False    True  False         False   True   \n",
            "15  False    False     False  False    True  False          True  False   \n",
            "16  False     True      True  False   False  False          True  False   \n",
            "17  False    False      True   True    True  False          True  False   \n",
            "18  False    False     False  False    True   True         False   True   \n",
            "19  False    False     False  False   False  False         False   True   \n",
            "\n",
            "      Tea  Water   Wine  \n",
            "0   False   True  False  \n",
            "1   False   True  False  \n",
            "2   False  False  False  \n",
            "3    True   True   True  \n",
            "4   False  False  False  \n",
            "5    True  False  False  \n",
            "6   False   True  False  \n",
            "7   False   True   True  \n",
            "8    True   True  False  \n",
            "9    True   True   True  \n",
            "10   True  False  False  \n",
            "11  False   True  False  \n",
            "12   True   True  False  \n",
            "13  False  False   True  \n",
            "14  False  False  False  \n",
            "15  False   True  False  \n",
            "16  False  False  False  \n",
            "17  False   True   True  \n",
            "18  False  False  False  \n",
            "19  False  False  False  \n",
            "Frequent Itemsets:\n",
            "    support                  itemsets\n",
            "0      0.20                   (Cider)\n",
            "1      0.40                (Cocktail)\n",
            "2      0.35                   (Cocoa)\n",
            "3      0.55                  (Coffee)\n",
            "4      0.35                   (Juice)\n",
            "5      0.45            (ProteinShake)\n",
            "6      0.30                    (Soda)\n",
            "7      0.30                     (Tea)\n",
            "8      0.55                   (Water)\n",
            "9      0.25                    (Wine)\n",
            "10     0.20        (Cocktail, Coffee)\n",
            "11     0.30  (Cocktail, ProteinShake)\n",
            "12     0.20         (Water, Cocktail)\n",
            "13     0.35            (Water, Cocoa)\n",
            "14     0.20           (Coffee, Juice)\n",
            "15     0.30    (ProteinShake, Coffee)\n",
            "16     0.20            (Soda, Coffee)\n",
            "17     0.30             (Coffee, Tea)\n",
            "18     0.30           (Water, Coffee)\n",
            "19     0.20            (Coffee, Wine)\n",
            "20     0.20     (ProteinShake, Juice)\n",
            "21     0.20     (Water, ProteinShake)\n",
            "22     0.20              (Water, Tea)\n",
            "23     0.20             (Water, Wine)\n",
            "24     0.20      (Water, Coffee, Tea)\n",
            "\n",
            "Association Rules:\n",
            "        antecedents      consequents  antecedent support  consequent support  \\\n",
            "0        (Cocktail)         (Coffee)                0.40                0.55   \n",
            "1        (Cocktail)   (ProteinShake)                0.40                0.45   \n",
            "2    (ProteinShake)       (Cocktail)                0.45                0.40   \n",
            "3        (Cocktail)          (Water)                0.40                0.55   \n",
            "4           (Water)          (Cocoa)                0.55                0.35   \n",
            "5           (Cocoa)          (Water)                0.35                0.55   \n",
            "6           (Juice)         (Coffee)                0.35                0.55   \n",
            "7    (ProteinShake)         (Coffee)                0.45                0.55   \n",
            "8          (Coffee)   (ProteinShake)                0.55                0.45   \n",
            "9            (Soda)         (Coffee)                0.30                0.55   \n",
            "10         (Coffee)            (Tea)                0.55                0.30   \n",
            "11            (Tea)         (Coffee)                0.30                0.55   \n",
            "12          (Water)         (Coffee)                0.55                0.55   \n",
            "13         (Coffee)          (Water)                0.55                0.55   \n",
            "14           (Wine)         (Coffee)                0.25                0.55   \n",
            "15   (ProteinShake)          (Juice)                0.45                0.35   \n",
            "16          (Juice)   (ProteinShake)                0.35                0.45   \n",
            "17   (ProteinShake)          (Water)                0.45                0.55   \n",
            "18            (Tea)          (Water)                0.30                0.55   \n",
            "19           (Wine)          (Water)                0.25                0.55   \n",
            "20  (Water, Coffee)            (Tea)                0.30                0.30   \n",
            "21     (Water, Tea)         (Coffee)                0.20                0.55   \n",
            "22    (Coffee, Tea)          (Water)                0.30                0.55   \n",
            "23            (Tea)  (Water, Coffee)                0.30                0.30   \n",
            "\n",
            "    support  confidence      lift  leverage  conviction  zhangs_metric  \n",
            "0      0.20    0.500000  0.909091   -0.0200    0.900000      -0.142857  \n",
            "1      0.30    0.750000  1.666667    0.1200    2.200000       0.666667  \n",
            "2      0.30    0.666667  1.666667    0.1200    1.800000       0.727273  \n",
            "3      0.20    0.500000  0.909091   -0.0200    0.900000      -0.142857  \n",
            "4      0.35    0.636364  1.818182    0.1575    1.787500       1.000000  \n",
            "5      0.35    1.000000  1.818182    0.1575         inf       0.692308  \n",
            "6      0.20    0.571429  1.038961    0.0075    1.050000       0.057692  \n",
            "7      0.30    0.666667  1.212121    0.0525    1.350000       0.318182  \n",
            "8      0.30    0.545455  1.212121    0.0525    1.210000       0.388889  \n",
            "9      0.20    0.666667  1.212121    0.0350    1.350000       0.250000  \n",
            "10     0.30    0.545455  1.818182    0.1350    1.540000       1.000000  \n",
            "11     0.30    1.000000  1.818182    0.1350         inf       0.642857  \n",
            "12     0.30    0.545455  0.991736   -0.0025    0.990000      -0.018182  \n",
            "13     0.30    0.545455  0.991736   -0.0025    0.990000      -0.018182  \n",
            "14     0.20    0.800000  1.454545    0.0625    2.250000       0.416667  \n",
            "15     0.20    0.444444  1.269841    0.0425    1.170000       0.386364  \n",
            "16     0.20    0.571429  1.269841    0.0425    1.283333       0.326923  \n",
            "17     0.20    0.444444  0.808081   -0.0475    0.810000      -0.301587  \n",
            "18     0.20    0.666667  1.212121    0.0350    1.350000       0.250000  \n",
            "19     0.20    0.800000  1.454545    0.0625    2.250000       0.416667  \n",
            "20     0.20    0.666667  2.222222    0.1100    2.100000       0.785714  \n",
            "21     0.20    1.000000  1.818182    0.0900         inf       0.562500  \n",
            "22     0.20    0.666667  1.212121    0.0350    1.350000       0.250000  \n",
            "23     0.20    0.666667  2.222222    0.1100    2.100000       0.785714  \n",
            "Time taken to complete the process using FP-Growth method:0.027581\n"
          ]
        },
        {
          "name": "stderr",
          "output_type": "stream",
          "text": [
            "/usr/local/lib/python3.10/dist-packages/ipykernel/ipkernel.py:283: DeprecationWarning: `should_run_async` will not call `transform_cell` automatically in the future. Please pass the result to `transformed_cell` argument and any exception that happen during thetransform in `preprocessing_exc_tuple` in IPython 7.17 and above.\n",
            "  and should_run_async(code)\n"
          ]
        }
      ],
      "source": [
        "global file_name, minimumSup, minimumConfi\n",
        "apriori_from_csv(file_name, minimumSup, minimumConfi)"
      ]
    },
    {
      "cell_type": "code",
      "execution_count": null,
      "metadata": {
        "colab": {
          "base_uri": "https://localhost:8080/"
        },
        "id": "7XTrcHufisTY",
        "outputId": "ed197137-6173-4d9a-bd08-d360ee6ce162"
      },
      "outputs": [
        {
          "name": "stderr",
          "output_type": "stream",
          "text": [
            "/usr/local/lib/python3.10/dist-packages/ipykernel/ipkernel.py:283: DeprecationWarning: `should_run_async` will not call `transform_cell` automatically in the future. Please pass the result to `transformed_cell` argument and any exception that happen during thetransform in `preprocessing_exc_tuple` in IPython 7.17 and above.\n",
            "  and should_run_async(code)\n"
          ]
        }
      ],
      "source": [
        "def time_complexity():\n",
        "    print(f\"Brute Force Time: {bfTime:.6f} seconds\")\n",
        "    print(f\"Apriori Time: {aTime:.6f} seconds\")\n",
        "\n",
        "    if bfTime < aTime:\n",
        "        print(\"Brute Force is the fastest method.\")\n",
        "    elif aTime < bfTime:\n",
        "        print(\"Apriori is the fastest method.\")\n",
        "    else:\n",
        "        print(\"All methods take approximately the same time.\")\n"
      ]
    },
    {
      "cell_type": "code",
      "execution_count": 133,
      "metadata": {
        "colab": {
          "base_uri": "https://localhost:8080/"
        },
        "id": "8dW6BhLZi7NE",
        "outputId": "e42def47-a8fd-4a16-d081-f3df7b630f6c"
      },
      "outputs": [
        {
          "name": "stdout",
          "output_type": "stream",
          "text": [
            "Brute Force Time: 0.068779 seconds\n",
            "Apriori Time: 0.043819 seconds\n",
            "FP-Growth Time: 0.031816 seconds\n",
            "FP-Growth is the fastest method.\n"
          ]
        },
        {
          "name": "stderr",
          "output_type": "stream",
          "text": [
            "/usr/local/lib/python3.10/dist-packages/ipykernel/ipkernel.py:283: DeprecationWarning: `should_run_async` will not call `transform_cell` automatically in the future. Please pass the result to `transformed_cell` argument and any exception that happen during thetransform in `preprocessing_exc_tuple` in IPython 7.17 and above.\n",
            "  and should_run_async(code)\n"
          ]
        }
      ],
      "source": [
        "global bfTime, aTime, fpTime\n",
        "time_complexity()"
      ]
    }
  ],
  "metadata": {
    "colab": {
      "provenance": []
    },
    "kernelspec": {
      "display_name": "Python 3",
      "name": "python3"
    },
    "language_info": {
      "codemirror_mode": {
        "name": "ipython",
        "version": 3
      },
      "file_extension": ".py",
      "mimetype": "text/x-python",
      "name": "python",
      "nbconvert_exporter": "python",
      "pygments_lexer": "ipython3",
      "version": "3.10.4"
    }
  },
  "nbformat": 4,
  "nbformat_minor": 0
}
